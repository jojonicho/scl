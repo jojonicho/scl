{
 "cells": [
  {
   "cell_type": "code",
   "execution_count": 1,
   "metadata": {},
   "outputs": [],
   "source": [
    "import pandas as pd\n",
    "import numpy as np"
   ]
  },
  {
   "cell_type": "code",
   "execution_count": 2,
   "metadata": {},
   "outputs": [],
   "source": [
    "orders = pd.read_csv(\"order_brush_order.csv\")"
   ]
  },
  {
   "cell_type": "code",
   "execution_count": 3,
   "metadata": {},
   "outputs": [],
   "source": [
    "orders.event_time = pd.to_datetime(orders.event_time)"
   ]
  },
  {
   "cell_type": "code",
   "execution_count": 4,
   "metadata": {},
   "outputs": [],
   "source": [
    "shop_ids = set(orders.shopid.values)"
   ]
  },
  {
   "cell_type": "code",
   "execution_count": 5,
   "metadata": {},
   "outputs": [],
   "source": [
    "def get_shop_df(shop_id):\n",
    "    return orders[orders.shopid == shop_id].set_index(\"event_time\").sort_index()\n",
    "\n",
    "shop_dfs = [get_shop_df(shop_id) for shop_id in shop_ids]"
   ]
  },
  {
   "cell_type": "code",
   "execution_count": 45,
   "metadata": {},
   "outputs": [],
   "source": [
    "def get_time_periods(df):\n",
    "    c = df.copy().sort_index()\n",
    "    t = [[x, x + pd.Timedelta(hours=1, seconds=1)] for x in c.index.values[:-1]]\n",
    "    t += [[x - pd.Timedelta(hours=1), x] for x in c.index.values[1:]]\n",
    "    t += [[x - pd.Timedelta(minutes=30), x + pd.Timedelta(minutes=30, seconds=1)] for x in c.index.values[1:]]\n",
    "    t += [[x - pd.Timedelta(minutes=5), x + pd.Timedelta(minutes=55, seconds=1)] for x in c.index.values[1:]]\n",
    "    t += [[x - pd.Timedelta(minutes=10), x + pd.Timedelta(minutes=50, seconds=1)] for x in c.index.values[1:]]\n",
    "    t += [[x - pd.Timedelta(minutes=15), x + pd.Timedelta(minutes=45, seconds=1)] for x in c.index.values[1:]]\n",
    "    t += [[x - pd.Timedelta(minutes=20), x + pd.Timedelta(minutes=40, seconds=1)] for x in c.index.values[1:]]\n",
    "    t += [[x - pd.Timedelta(minutes=25), x + pd.Timedelta(minutes=35, seconds=1)] for x in c.index.values[1:]]\n",
    "    t += [[x - pd.Timedelta(minutes=35), x + pd.Timedelta(minutes=25, seconds=1)] for x in c.index.values[1:]]\n",
    "    t += [[x - pd.Timedelta(minutes=40), x + pd.Timedelta(minutes=20, seconds=1)] for x in c.index.values[1:]]\n",
    "    t += [[x - pd.Timedelta(minutes=45), x + pd.Timedelta(minutes=15, seconds=1)] for x in c.index.values[1:]]\n",
    "    t += [[x - pd.Timedelta(minutes=50), x + pd.Timedelta(minutes=10, seconds=1)] for x in c.index.values[1:]]\n",
    "    t += [[x - pd.Timedelta(minutes=55), x + pd.Timedelta(minutes=5, seconds=1)] for x in c.index.values[1:]]\n",
    "\n",
    "#     t = c.index.apply(lambda x: [x, x + pd.Timedelta(hours=1)]).values\n",
    "    return t"
   ]
  },
  {
   "cell_type": "code",
   "execution_count": 33,
   "metadata": {},
   "outputs": [],
   "source": [
    "def get_concentrate_rate(df):\n",
    "    n_unique_buyers = len(set(df.userid))\n",
    "    return len(df) / n_unique_buyers"
   ]
  },
  {
   "cell_type": "code",
   "execution_count": 34,
   "metadata": {},
   "outputs": [],
   "source": [
    "def get_suspicious(df):\n",
    "    z = df.userid.mode()\n",
    "    return df.userid.value_counts().max(), z"
   ]
  },
  {
   "cell_type": "code",
   "execution_count": 35,
   "metadata": {},
   "outputs": [],
   "source": [
    "def get_brushings(df):\n",
    "    # return final userid column for a shop\n",
    "    suspicious = []\n",
    "    periods = get_time_periods(df)\n",
    "    for period in periods:\n",
    "        d = df[period[0]:period[1]]\n",
    "        if get_concentrate_rate(d) >= 3:\n",
    "            suspicious.append(get_suspicious(d))\n",
    "    return suspicious"
   ]
  },
  {
   "cell_type": "code",
   "execution_count": 36,
   "metadata": {},
   "outputs": [],
   "source": [
    "shop_ids = [shop.iloc[0].shopid for shop in shop_dfs]"
   ]
  },
  {
   "cell_type": "code",
   "execution_count": 46,
   "metadata": {},
   "outputs": [],
   "source": [
    "shop_brushings = [get_brushings(shop) for shop in shop_dfs]"
   ]
  },
  {
   "cell_type": "code",
   "execution_count": 47,
   "metadata": {},
   "outputs": [],
   "source": [
    "f = pd.DataFrame(shop_ids)\n",
    "f[\"userid\"] = shop_brushings\n",
    "f.columns = [\"shopid\", \"userid\"]"
   ]
  },
  {
   "cell_type": "code",
   "execution_count": 48,
   "metadata": {},
   "outputs": [],
   "source": [
    "flatten = lambda l: [item for sublist in l for item in sublist]"
   ]
  },
  {
   "cell_type": "code",
   "execution_count": 49,
   "metadata": {},
   "outputs": [],
   "source": [
    "def get_userids_brushing(u):\n",
    "    if len(u) == 0:\n",
    "        return \"0\"\n",
    "    else:\n",
    "        max_proportions = max([s[0] for s in u])\n",
    "        ids = [s[1] for s in u if s[0] >= max_proportions]\n",
    "        return \"&\".join(map(str, sorted(set(flatten(ids)))))"
   ]
  },
  {
   "cell_type": "code",
   "execution_count": 50,
   "metadata": {},
   "outputs": [],
   "source": [
    "f[\"userid\"] = f.userid.apply(get_userids_brushing)"
   ]
  },
  {
   "cell_type": "code",
   "execution_count": 51,
   "metadata": {},
   "outputs": [
    {
     "data": {
      "text/plain": [
       "['35639374&159315857',\n",
       " '5307816&214808165',\n",
       " '29857724&212200633',\n",
       " '99517130&186080843',\n",
       " '156202149&214265994',\n",
       " '76102350&188025647',\n",
       " '187697407&215009429',\n",
       " '1974334&107414154',\n",
       " '101832161&214208720']"
      ]
     },
     "execution_count": 51,
     "metadata": {},
     "output_type": "execute_result"
    }
   ],
   "source": [
    "[v for v in f.userid.values if \"&\" in v]"
   ]
  },
  {
   "cell_type": "code",
   "execution_count": 52,
   "metadata": {},
   "outputs": [
    {
     "data": {
      "text/plain": [
       "315"
      ]
     },
     "execution_count": 52,
     "metadata": {},
     "output_type": "execute_result"
    }
   ],
   "source": [
    "len([v for v in f.userid.values if v != \"0\"])"
   ]
  },
  {
   "cell_type": "code",
   "execution_count": 53,
   "metadata": {},
   "outputs": [],
   "source": [
    "f.to_csv(\"sub.csv\", header=True, index=False)"
   ]
  },
  {
   "cell_type": "code",
   "execution_count": null,
   "metadata": {},
   "outputs": [],
   "source": []
  }
 ],
 "metadata": {
  "kernelspec": {
   "display_name": "conda_python3",
   "language": "python",
   "name": "conda_python3"
  },
  "language_info": {
   "codemirror_mode": {
    "name": "ipython",
    "version": 3
   },
   "file_extension": ".py",
   "mimetype": "text/x-python",
   "name": "python",
   "nbconvert_exporter": "python",
   "pygments_lexer": "ipython3",
   "version": "3.6.5"
  }
 },
 "nbformat": 4,
 "nbformat_minor": 4
}
