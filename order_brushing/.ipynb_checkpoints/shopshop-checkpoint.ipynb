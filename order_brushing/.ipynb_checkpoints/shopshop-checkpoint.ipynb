{
 "cells": [
  {
   "cell_type": "code",
   "execution_count": 5,
   "metadata": {},
   "outputs": [],
   "source": [
    "import pandas as pd\n",
    "import numpy as np\n",
    "import matplotlib.pyplot as plt\n",
    "import seaborn as sns"
   ]
  },
  {
   "cell_type": "code",
   "execution_count": 6,
   "metadata": {},
   "outputs": [],
   "source": [
    "df = pd.read_csv('order_brush_order.csv')"
   ]
  },
  {
   "cell_type": "code",
   "execution_count": 7,
   "metadata": {},
   "outputs": [
    {
     "data": {
      "text/html": [
       "<div>\n",
       "<style scoped>\n",
       "    .dataframe tbody tr th:only-of-type {\n",
       "        vertical-align: middle;\n",
       "    }\n",
       "\n",
       "    .dataframe tbody tr th {\n",
       "        vertical-align: top;\n",
       "    }\n",
       "\n",
       "    .dataframe thead th {\n",
       "        text-align: right;\n",
       "    }\n",
       "</style>\n",
       "<table border=\"1\" class=\"dataframe\">\n",
       "  <thead>\n",
       "    <tr style=\"text-align: right;\">\n",
       "      <th></th>\n",
       "      <th>orderid</th>\n",
       "      <th>shopid</th>\n",
       "      <th>userid</th>\n",
       "      <th>event_time</th>\n",
       "    </tr>\n",
       "  </thead>\n",
       "  <tbody>\n",
       "    <tr>\n",
       "      <th>0</th>\n",
       "      <td>31076582227611</td>\n",
       "      <td>93950878</td>\n",
       "      <td>30530270</td>\n",
       "      <td>2019-12-27 00:23:03</td>\n",
       "    </tr>\n",
       "    <tr>\n",
       "      <th>1</th>\n",
       "      <td>31118059853484</td>\n",
       "      <td>156423439</td>\n",
       "      <td>46057927</td>\n",
       "      <td>2019-12-27 11:54:20</td>\n",
       "    </tr>\n",
       "    <tr>\n",
       "      <th>2</th>\n",
       "      <td>31123355095755</td>\n",
       "      <td>173699291</td>\n",
       "      <td>67341739</td>\n",
       "      <td>2019-12-27 13:22:35</td>\n",
       "    </tr>\n",
       "    <tr>\n",
       "      <th>3</th>\n",
       "      <td>31122059872723</td>\n",
       "      <td>63674025</td>\n",
       "      <td>149380322</td>\n",
       "      <td>2019-12-27 13:01:00</td>\n",
       "    </tr>\n",
       "    <tr>\n",
       "      <th>4</th>\n",
       "      <td>31117075665123</td>\n",
       "      <td>127249066</td>\n",
       "      <td>149493217</td>\n",
       "      <td>2019-12-27 11:37:55</td>\n",
       "    </tr>\n",
       "    <tr>\n",
       "      <th>...</th>\n",
       "      <td>...</td>\n",
       "      <td>...</td>\n",
       "      <td>...</td>\n",
       "      <td>...</td>\n",
       "    </tr>\n",
       "    <tr>\n",
       "      <th>222745</th>\n",
       "      <td>31245479170194</td>\n",
       "      <td>110868129</td>\n",
       "      <td>193218997</td>\n",
       "      <td>2019-12-28 23:17:59</td>\n",
       "    </tr>\n",
       "    <tr>\n",
       "      <th>222746</th>\n",
       "      <td>31230440360374</td>\n",
       "      <td>91639906</td>\n",
       "      <td>3541807</td>\n",
       "      <td>2019-12-28 19:07:20</td>\n",
       "    </tr>\n",
       "    <tr>\n",
       "      <th>222747</th>\n",
       "      <td>31191471145838</td>\n",
       "      <td>29391773</td>\n",
       "      <td>135908070</td>\n",
       "      <td>2019-12-28 08:17:52</td>\n",
       "    </tr>\n",
       "    <tr>\n",
       "      <th>222748</th>\n",
       "      <td>31198471732255</td>\n",
       "      <td>61556313</td>\n",
       "      <td>27306783</td>\n",
       "      <td>2019-12-28 10:14:31</td>\n",
       "    </tr>\n",
       "    <tr>\n",
       "      <th>222749</th>\n",
       "      <td>31164356713822</td>\n",
       "      <td>147941492</td>\n",
       "      <td>127484153</td>\n",
       "      <td>2019-12-28 00:45:56</td>\n",
       "    </tr>\n",
       "  </tbody>\n",
       "</table>\n",
       "<p>222750 rows × 4 columns</p>\n",
       "</div>"
      ],
      "text/plain": [
       "               orderid     shopid     userid           event_time\n",
       "0       31076582227611   93950878   30530270  2019-12-27 00:23:03\n",
       "1       31118059853484  156423439   46057927  2019-12-27 11:54:20\n",
       "2       31123355095755  173699291   67341739  2019-12-27 13:22:35\n",
       "3       31122059872723   63674025  149380322  2019-12-27 13:01:00\n",
       "4       31117075665123  127249066  149493217  2019-12-27 11:37:55\n",
       "...                ...        ...        ...                  ...\n",
       "222745  31245479170194  110868129  193218997  2019-12-28 23:17:59\n",
       "222746  31230440360374   91639906    3541807  2019-12-28 19:07:20\n",
       "222747  31191471145838   29391773  135908070  2019-12-28 08:17:52\n",
       "222748  31198471732255   61556313   27306783  2019-12-28 10:14:31\n",
       "222749  31164356713822  147941492  127484153  2019-12-28 00:45:56\n",
       "\n",
       "[222750 rows x 4 columns]"
      ]
     },
     "execution_count": 7,
     "metadata": {},
     "output_type": "execute_result"
    }
   ],
   "source": [
    "df"
   ]
  },
  {
   "cell_type": "code",
   "execution_count": 24,
   "metadata": {},
   "outputs": [
    {
     "data": {
      "text/html": [
       "<div>\n",
       "<style scoped>\n",
       "    .dataframe tbody tr th:only-of-type {\n",
       "        vertical-align: middle;\n",
       "    }\n",
       "\n",
       "    .dataframe tbody tr th {\n",
       "        vertical-align: top;\n",
       "    }\n",
       "\n",
       "    .dataframe thead th {\n",
       "        text-align: right;\n",
       "    }\n",
       "</style>\n",
       "<table border=\"1\" class=\"dataframe\">\n",
       "  <thead>\n",
       "    <tr style=\"text-align: right;\">\n",
       "      <th></th>\n",
       "      <th>orderid</th>\n",
       "      <th>userid</th>\n",
       "    </tr>\n",
       "    <tr>\n",
       "      <th>shopid</th>\n",
       "      <th></th>\n",
       "      <th></th>\n",
       "    </tr>\n",
       "  </thead>\n",
       "  <tbody>\n",
       "    <tr>\n",
       "      <th>10009</th>\n",
       "      <td>3.108641e+13</td>\n",
       "      <td>1.969623e+08</td>\n",
       "    </tr>\n",
       "    <tr>\n",
       "      <th>10051</th>\n",
       "      <td>3.119978e+13</td>\n",
       "      <td>2.572725e+07</td>\n",
       "    </tr>\n",
       "    <tr>\n",
       "      <th>10061</th>\n",
       "      <td>3.131111e+13</td>\n",
       "      <td>1.391669e+08</td>\n",
       "    </tr>\n",
       "    <tr>\n",
       "      <th>10084</th>\n",
       "      <td>3.126325e+13</td>\n",
       "      <td>8.608837e+07</td>\n",
       "    </tr>\n",
       "    <tr>\n",
       "      <th>10100</th>\n",
       "      <td>3.130157e+13</td>\n",
       "      <td>9.537958e+07</td>\n",
       "    </tr>\n",
       "    <tr>\n",
       "      <th>...</th>\n",
       "      <td>...</td>\n",
       "      <td>...</td>\n",
       "    </tr>\n",
       "    <tr>\n",
       "      <th>214662358</th>\n",
       "      <td>3.142016e+13</td>\n",
       "      <td>1.943325e+08</td>\n",
       "    </tr>\n",
       "    <tr>\n",
       "      <th>214949521</th>\n",
       "      <td>3.149260e+13</td>\n",
       "      <td>4.626918e+07</td>\n",
       "    </tr>\n",
       "    <tr>\n",
       "      <th>214964814</th>\n",
       "      <td>3.132878e+13</td>\n",
       "      <td>2.009834e+08</td>\n",
       "    </tr>\n",
       "    <tr>\n",
       "      <th>215175775</th>\n",
       "      <td>3.146283e+13</td>\n",
       "      <td>7.147742e+07</td>\n",
       "    </tr>\n",
       "    <tr>\n",
       "      <th>215435223</th>\n",
       "      <td>3.148770e+13</td>\n",
       "      <td>7.951511e+07</td>\n",
       "    </tr>\n",
       "  </tbody>\n",
       "</table>\n",
       "<p>18770 rows × 2 columns</p>\n",
       "</div>"
      ],
      "text/plain": [
       "                orderid        userid\n",
       "shopid                               \n",
       "10009      3.108641e+13  1.969623e+08\n",
       "10051      3.119978e+13  2.572725e+07\n",
       "10061      3.131111e+13  1.391669e+08\n",
       "10084      3.126325e+13  8.608837e+07\n",
       "10100      3.130157e+13  9.537958e+07\n",
       "...                 ...           ...\n",
       "214662358  3.142016e+13  1.943325e+08\n",
       "214949521  3.149260e+13  4.626918e+07\n",
       "214964814  3.132878e+13  2.009834e+08\n",
       "215175775  3.146283e+13  7.147742e+07\n",
       "215435223  3.148770e+13  7.951511e+07\n",
       "\n",
       "[18770 rows x 2 columns]"
      ]
     },
     "execution_count": 24,
     "metadata": {},
     "output_type": "execute_result"
    }
   ],
   "source": [
    "df.groupby([\"shopid\"]).mean()"
   ]
  },
  {
   "cell_type": "code",
   "execution_count": 57,
   "metadata": {},
   "outputs": [],
   "source": [
    "df = df.sort_values(by=[\"shopid\", \"userid\", \"event_time\"])"
   ]
  },
  {
   "cell_type": "code",
   "execution_count": 63,
   "metadata": {},
   "outputs": [
    {
     "data": {
      "text/html": [
       "<div>\n",
       "<style scoped>\n",
       "    .dataframe tbody tr th:only-of-type {\n",
       "        vertical-align: middle;\n",
       "    }\n",
       "\n",
       "    .dataframe tbody tr th {\n",
       "        vertical-align: top;\n",
       "    }\n",
       "\n",
       "    .dataframe thead th {\n",
       "        text-align: right;\n",
       "    }\n",
       "</style>\n",
       "<table border=\"1\" class=\"dataframe\">\n",
       "  <thead>\n",
       "    <tr style=\"text-align: right;\">\n",
       "      <th></th>\n",
       "      <th>orderid</th>\n",
       "      <th>shopid</th>\n",
       "      <th>userid</th>\n",
       "      <th>event_time</th>\n",
       "    </tr>\n",
       "  </thead>\n",
       "  <tbody>\n",
       "    <tr>\n",
       "      <th>59</th>\n",
       "      <td>31086409141107</td>\n",
       "      <td>10009</td>\n",
       "      <td>196962305</td>\n",
       "      <td>2019-12-27 03:06:50</td>\n",
       "    </tr>\n",
       "    <tr>\n",
       "      <th>76187</th>\n",
       "      <td>31144571933461</td>\n",
       "      <td>10051</td>\n",
       "      <td>2854032</td>\n",
       "      <td>2019-12-27 19:16:11</td>\n",
       "    </tr>\n",
       "    <tr>\n",
       "      <th>9055</th>\n",
       "      <td>31254979546679</td>\n",
       "      <td>10051</td>\n",
       "      <td>48600461</td>\n",
       "      <td>2019-12-29 01:56:19</td>\n",
       "    </tr>\n",
       "    <tr>\n",
       "      <th>145426</th>\n",
       "      <td>31431527100615</td>\n",
       "      <td>10061</td>\n",
       "      <td>62464559</td>\n",
       "      <td>2019-12-31 02:58:48</td>\n",
       "    </tr>\n",
       "    <tr>\n",
       "      <th>200439</th>\n",
       "      <td>31412115824794</td>\n",
       "      <td>10061</td>\n",
       "      <td>130633421</td>\n",
       "      <td>2019-12-30 21:35:15</td>\n",
       "    </tr>\n",
       "    <tr>\n",
       "      <th>...</th>\n",
       "      <td>...</td>\n",
       "      <td>...</td>\n",
       "      <td>...</td>\n",
       "      <td>...</td>\n",
       "    </tr>\n",
       "    <tr>\n",
       "      <th>81950</th>\n",
       "      <td>31493203163305</td>\n",
       "      <td>214949521</td>\n",
       "      <td>46269178</td>\n",
       "      <td>2019-12-31 20:06:43</td>\n",
       "    </tr>\n",
       "    <tr>\n",
       "      <th>108903</th>\n",
       "      <td>31328775676314</td>\n",
       "      <td>214964814</td>\n",
       "      <td>200983383</td>\n",
       "      <td>2019-12-29 22:26:16</td>\n",
       "    </tr>\n",
       "    <tr>\n",
       "      <th>203031</th>\n",
       "      <td>31453591917585</td>\n",
       "      <td>215175775</td>\n",
       "      <td>13688804</td>\n",
       "      <td>2019-12-31 09:06:31</td>\n",
       "    </tr>\n",
       "    <tr>\n",
       "      <th>42842</th>\n",
       "      <td>31472077221692</td>\n",
       "      <td>215175775</td>\n",
       "      <td>129266028</td>\n",
       "      <td>2019-12-31 14:14:37</td>\n",
       "    </tr>\n",
       "    <tr>\n",
       "      <th>160711</th>\n",
       "      <td>31487696848532</td>\n",
       "      <td>215435223</td>\n",
       "      <td>79515106</td>\n",
       "      <td>2019-12-31 18:34:56</td>\n",
       "    </tr>\n",
       "  </tbody>\n",
       "</table>\n",
       "<p>222750 rows × 4 columns</p>\n",
       "</div>"
      ],
      "text/plain": [
       "               orderid     shopid     userid           event_time\n",
       "59      31086409141107      10009  196962305  2019-12-27 03:06:50\n",
       "76187   31144571933461      10051    2854032  2019-12-27 19:16:11\n",
       "9055    31254979546679      10051   48600461  2019-12-29 01:56:19\n",
       "145426  31431527100615      10061   62464559  2019-12-31 02:58:48\n",
       "200439  31412115824794      10061  130633421  2019-12-30 21:35:15\n",
       "...                ...        ...        ...                  ...\n",
       "81950   31493203163305  214949521   46269178  2019-12-31 20:06:43\n",
       "108903  31328775676314  214964814  200983383  2019-12-29 22:26:16\n",
       "203031  31453591917585  215175775   13688804  2019-12-31 09:06:31\n",
       "42842   31472077221692  215175775  129266028  2019-12-31 14:14:37\n",
       "160711  31487696848532  215435223   79515106  2019-12-31 18:34:56\n",
       "\n",
       "[222750 rows x 4 columns]"
      ]
     },
     "execution_count": 63,
     "metadata": {},
     "output_type": "execute_result"
    }
   ],
   "source": [
    "df"
   ]
  },
  {
   "cell_type": "code",
   "execution_count": 39,
   "metadata": {},
   "outputs": [
    {
     "data": {
      "text/plain": [
       "array([    10009,     10051,     10061, ..., 214964814, 215175775,\n",
       "       215435223])"
      ]
     },
     "execution_count": 39,
     "metadata": {},
     "output_type": "execute_result"
    }
   ],
   "source": [
    "df['shopid'].unique()"
   ]
  },
  {
   "cell_type": "code",
   "execution_count": 41,
   "metadata": {},
   "outputs": [
    {
     "data": {
      "text/html": [
       "<div>\n",
       "<style scoped>\n",
       "    .dataframe tbody tr th:only-of-type {\n",
       "        vertical-align: middle;\n",
       "    }\n",
       "\n",
       "    .dataframe tbody tr th {\n",
       "        vertical-align: top;\n",
       "    }\n",
       "\n",
       "    .dataframe thead th {\n",
       "        text-align: right;\n",
       "    }\n",
       "</style>\n",
       "<table border=\"1\" class=\"dataframe\">\n",
       "  <thead>\n",
       "    <tr style=\"text-align: right;\">\n",
       "      <th></th>\n",
       "      <th>orderid</th>\n",
       "      <th>shopid</th>\n",
       "      <th>userid</th>\n",
       "      <th>event_time</th>\n",
       "    </tr>\n",
       "  </thead>\n",
       "  <tbody>\n",
       "    <tr>\n",
       "      <th>59</th>\n",
       "      <td>31086409141107</td>\n",
       "      <td>10009</td>\n",
       "      <td>196962305</td>\n",
       "      <td>2019-12-27 03:06:50</td>\n",
       "    </tr>\n",
       "  </tbody>\n",
       "</table>\n",
       "</div>"
      ],
      "text/plain": [
       "           orderid  shopid     userid           event_time\n",
       "59  31086409141107   10009  196962305  2019-12-27 03:06:50"
      ]
     },
     "execution_count": 41,
     "metadata": {},
     "output_type": "execute_result"
    }
   ],
   "source": [
    "df[df['shopid']==10009]"
   ]
  },
  {
   "cell_type": "code",
   "execution_count": 48,
   "metadata": {},
   "outputs": [],
   "source": [
    "tes = df[df['shopid']==10061]"
   ]
  },
  {
   "cell_type": "code",
   "execution_count": 45,
   "metadata": {},
   "outputs": [
    {
     "data": {
      "text/plain": [
       "'2019-12-28 09:27:55'"
      ]
     },
     "execution_count": 45,
     "metadata": {},
     "output_type": "execute_result"
    }
   ],
   "source": [
    "tes['event_time'].min()"
   ]
  },
  {
   "cell_type": "code",
   "execution_count": 49,
   "metadata": {},
   "outputs": [
    {
     "data": {
      "text/html": [
       "<div>\n",
       "<style scoped>\n",
       "    .dataframe tbody tr th:only-of-type {\n",
       "        vertical-align: middle;\n",
       "    }\n",
       "\n",
       "    .dataframe tbody tr th {\n",
       "        vertical-align: top;\n",
       "    }\n",
       "\n",
       "    .dataframe thead th {\n",
       "        text-align: right;\n",
       "    }\n",
       "</style>\n",
       "<table border=\"1\" class=\"dataframe\">\n",
       "  <thead>\n",
       "    <tr style=\"text-align: right;\">\n",
       "      <th></th>\n",
       "      <th>orderid</th>\n",
       "      <th>shopid</th>\n",
       "      <th>userid</th>\n",
       "      <th>event_time</th>\n",
       "    </tr>\n",
       "  </thead>\n",
       "  <tbody>\n",
       "    <tr>\n",
       "      <th>188513</th>\n",
       "      <td>31195675919209</td>\n",
       "      <td>10061</td>\n",
       "      <td>168750452</td>\n",
       "      <td>2019-12-28 09:27:55</td>\n",
       "    </tr>\n",
       "    <tr>\n",
       "      <th>174620</th>\n",
       "      <td>31205132327893</td>\n",
       "      <td>10061</td>\n",
       "      <td>194819216</td>\n",
       "      <td>2019-12-28 12:05:32</td>\n",
       "    </tr>\n",
       "    <tr>\n",
       "      <th>200439</th>\n",
       "      <td>31412115824794</td>\n",
       "      <td>10061</td>\n",
       "      <td>130633421</td>\n",
       "      <td>2019-12-30 21:35:15</td>\n",
       "    </tr>\n",
       "    <tr>\n",
       "      <th>145426</th>\n",
       "      <td>31431527100615</td>\n",
       "      <td>10061</td>\n",
       "      <td>62464559</td>\n",
       "      <td>2019-12-31 02:58:48</td>\n",
       "    </tr>\n",
       "  </tbody>\n",
       "</table>\n",
       "</div>"
      ],
      "text/plain": [
       "               orderid  shopid     userid           event_time\n",
       "188513  31195675919209   10061  168750452  2019-12-28 09:27:55\n",
       "174620  31205132327893   10061  194819216  2019-12-28 12:05:32\n",
       "200439  31412115824794   10061  130633421  2019-12-30 21:35:15\n",
       "145426  31431527100615   10061   62464559  2019-12-31 02:58:48"
      ]
     },
     "execution_count": 49,
     "metadata": {},
     "output_type": "execute_result"
    }
   ],
   "source": [
    "tes"
   ]
  },
  {
   "cell_type": "code",
   "execution_count": 47,
   "metadata": {},
   "outputs": [
    {
     "data": {
      "text/plain": [
       "188513    2019-12-28 09:27:55\n",
       "174620    2019-12-28 12:05:32\n",
       "200439    2019-12-30 21:35:15\n",
       "145426    2019-12-31 02:58:48\n",
       "Name: event_time, dtype: object"
      ]
     },
     "execution_count": 47,
     "metadata": {},
     "output_type": "execute_result"
    }
   ],
   "source": [
    "tes['event_time']"
   ]
  },
  {
   "cell_type": "code",
   "execution_count": null,
   "metadata": {},
   "outputs": [],
   "source": [
    "pd.date_"
   ]
  },
  {
   "cell_type": "code",
   "execution_count": 54,
   "metadata": {},
   "outputs": [
    {
     "name": "stdout",
     "output_type": "stream",
     "text": [
      "                   0         1         2\n",
      "date                                    \n",
      "2000-06-01  0.026155  0.003596  0.615401\n",
      "2000-06-02  0.538226  0.519095  0.058780\n",
      "2000-06-03  0.427027  0.554439  0.366182\n",
      "2000-06-04  0.613761  0.143740  0.861329\n",
      "2000-06-05  0.065557  0.961152  0.651754\n",
      "2000-06-06  0.815709  0.682989  0.525867\n",
      "2000-06-07  0.209506  0.793734  0.996836\n",
      "2000-06-08  0.014715  0.068293  0.665565\n",
      "2000-06-09  0.694589  0.265512  0.301148\n",
      "2000-06-10  0.756688  0.514122  0.248940\n"
     ]
    }
   ],
   "source": [
    "dt = pd.DataFrame(np.random.random((200,3)))\n",
    "dt['date'] = pd.date_range('2000-1-1', periods=200, freq='D')\n",
    "dt = dt.set_index(['date'])\n",
    "print(dt.loc['2000-6-1':'2000-6-10'])"
   ]
  },
  {
   "cell_type": "code",
   "execution_count": null,
   "metadata": {},
   "outputs": [],
   "source": []
  }
 ],
 "metadata": {
  "kernelspec": {
   "display_name": "Python 3",
   "language": "python",
   "name": "python3"
  },
  "language_info": {
   "codemirror_mode": {
    "name": "ipython",
    "version": 3
   },
   "file_extension": ".py",
   "mimetype": "text/x-python",
   "name": "python",
   "nbconvert_exporter": "python",
   "pygments_lexer": "ipython3",
   "version": "3.8.3"
  }
 },
 "nbformat": 4,
 "nbformat_minor": 4
}
